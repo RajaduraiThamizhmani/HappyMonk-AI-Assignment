{
 "cells": [
  {
   "cell_type": "markdown",
   "metadata": {},
   "source": [
    "# PROGRAMMING TEST: LEARNING ACTIVATIONS IN NEURAL NETWORKS   \n",
    "# MONK AI"
   ]
  },
  {
   "cell_type": "markdown",
   "metadata": {},
   "source": [
    "## I. BACKGROUND\n",
    "\n",
    "Selection of the best performing AF for classification task is essentially a naive (or brute-force) procedure wherein, a popularly used AF is picked and used in the network for approximating the optimal function. If this function fails, the process is repeated with a different AF, till the network learns to approximate the ideal function. It is interesting to inquire and inspect whether there exists a possibility of building a framework which uses the inherent clues and insights from data and bring about the most suitable AF. The possibilities of such an approach could not only save significant time and effort for tuning the model, but will also open up new ways for discovering essential features of not-so-popular AFs.\n",
    "\n",
    "## II. PROBLEM STATEMENT\n",
    "\n",
    "Given a specific activation function\n",
    "\n",
    "            g(x) = k0 + k1x                                                                                                                                                                                                                           \n",
    "\n",
    "and categorical cross-entropy loss, design a Neural Network on Banknote('BankNote_Authentication.csv') data where the activation function parameters k0, k1 are learned from the data you choose from one of the above-mentioned data sets. My solution was included by the learnable parameter values.\n",
    "I.e. final k0, k1 values at the end of training, \n",
    "A plot depicting changes in k0, k1 at each epoch, \n",
    "Training vs test loss, train vs. \n",
    "Test accuracy and a Loss function plot.\n",
    "\n"
   ]
  },
  {
   "cell_type": "markdown",
   "metadata": {},
   "source": [
    "NOTE :\n",
    "* This report containing implementation details (al-gorithm, initial settings such as sampling the parameters k0, k1 from some distribution, parameter updates one pochs, final parameter values at the end of training, train vs test loss, train and test accuracy, F1-Score, plot of the loss function vs. epochs.\n",
    "\n",
    "\n",
    "* And Focusing on how to classify the detection technique of counterfeit banknotes. The approach that will be implemented to solve this Binary classification problem is by using the method of Artificial Neutral Network(ANN)."
   ]
  },
  {
   "cell_type": "markdown",
   "metadata": {},
   "source": [
    "Data for this analysis Is :https://archive.ics.uci.edu/ml/machine-learning-databases/00267/data_banknote_authentication.txt"
   ]
  },
  {
   "cell_type": "code",
   "execution_count": 83,
   "metadata": {},
   "outputs": [],
   "source": [
    "# Importing the Required libraries for the analysis\n",
    "import numpy as np\n",
    "import pandas as pd\n",
    "import keras\n",
    "from keras.models import Sequential\n",
    "from keras.layers import Dense\n",
    "import matplotlib.pyplot as plt"
   ]
  },
  {
   "cell_type": "markdown",
   "metadata": {},
   "source": [
    "# Part 1 -Data Preprocessing"
   ]
  },
  {
   "cell_type": "code",
   "execution_count": 84,
   "metadata": {},
   "outputs": [
    {
     "data": {
      "text/html": [
       "<div>\n",
       "<style scoped>\n",
       "    .dataframe tbody tr th:only-of-type {\n",
       "        vertical-align: middle;\n",
       "    }\n",
       "\n",
       "    .dataframe tbody tr th {\n",
       "        vertical-align: top;\n",
       "    }\n",
       "\n",
       "    .dataframe thead th {\n",
       "        text-align: right;\n",
       "    }\n",
       "</style>\n",
       "<table border=\"1\" class=\"dataframe\">\n",
       "  <thead>\n",
       "    <tr style=\"text-align: right;\">\n",
       "      <th></th>\n",
       "      <th>variance</th>\n",
       "      <th>skewness</th>\n",
       "      <th>curtosis</th>\n",
       "      <th>entropy</th>\n",
       "      <th>class</th>\n",
       "    </tr>\n",
       "  </thead>\n",
       "  <tbody>\n",
       "    <tr>\n",
       "      <th>0</th>\n",
       "      <td>3.62160</td>\n",
       "      <td>8.6661</td>\n",
       "      <td>-2.8073</td>\n",
       "      <td>-0.44699</td>\n",
       "      <td>0</td>\n",
       "    </tr>\n",
       "    <tr>\n",
       "      <th>1</th>\n",
       "      <td>4.54590</td>\n",
       "      <td>8.1674</td>\n",
       "      <td>-2.4586</td>\n",
       "      <td>-1.46210</td>\n",
       "      <td>0</td>\n",
       "    </tr>\n",
       "    <tr>\n",
       "      <th>2</th>\n",
       "      <td>3.86600</td>\n",
       "      <td>-2.6383</td>\n",
       "      <td>1.9242</td>\n",
       "      <td>0.10645</td>\n",
       "      <td>0</td>\n",
       "    </tr>\n",
       "    <tr>\n",
       "      <th>3</th>\n",
       "      <td>3.45660</td>\n",
       "      <td>9.5228</td>\n",
       "      <td>-4.0112</td>\n",
       "      <td>-3.59440</td>\n",
       "      <td>0</td>\n",
       "    </tr>\n",
       "    <tr>\n",
       "      <th>4</th>\n",
       "      <td>0.32924</td>\n",
       "      <td>-4.4552</td>\n",
       "      <td>4.5718</td>\n",
       "      <td>-0.98880</td>\n",
       "      <td>0</td>\n",
       "    </tr>\n",
       "  </tbody>\n",
       "</table>\n",
       "</div>"
      ],
      "text/plain": [
       "   variance  skewness  curtosis  entropy  class\n",
       "0   3.62160    8.6661   -2.8073 -0.44699      0\n",
       "1   4.54590    8.1674   -2.4586 -1.46210      0\n",
       "2   3.86600   -2.6383    1.9242  0.10645      0\n",
       "3   3.45660    9.5228   -4.0112 -3.59440      0\n",
       "4   0.32924   -4.4552    4.5718 -0.98880      0"
      ]
     },
     "execution_count": 84,
     "metadata": {},
     "output_type": "execute_result"
    }
   ],
   "source": [
    "# Importing the dataset\n",
    "banknote = pd.read_csv('BankNote_Authentication.csv')\n",
    "banknote.head()"
   ]
  },
  {
   "cell_type": "code",
   "execution_count": 101,
   "metadata": {},
   "outputs": [
    {
     "name": "stdout",
     "output_type": "stream",
     "text": [
      "(1372, 5)\n"
     ]
    }
   ],
   "source": [
    "# summarize shape\n",
    "print(banknote.shape)"
   ]
  },
  {
   "cell_type": "code",
   "execution_count": 104,
   "metadata": {},
   "outputs": [
    {
     "name": "stdout",
     "output_type": "stream",
     "text": [
      "<class 'pandas.core.frame.DataFrame'>\n",
      "RangeIndex: 1372 entries, 0 to 1371\n",
      "Data columns (total 5 columns):\n",
      " #   Column    Non-Null Count  Dtype  \n",
      "---  ------    --------------  -----  \n",
      " 0   variance  1372 non-null   float64\n",
      " 1   skewness  1372 non-null   float64\n",
      " 2   curtosis  1372 non-null   float64\n",
      " 3   entropy   1372 non-null   float64\n",
      " 4   class     1372 non-null   int64  \n",
      "dtypes: float64(4), int64(1)\n",
      "memory usage: 53.7 KB\n"
     ]
    }
   ],
   "source": [
    "# Describing the data\n",
    "banknote.info()"
   ]
  },
  {
   "cell_type": "code",
   "execution_count": 106,
   "metadata": {},
   "outputs": [
    {
     "data": {
      "text/plain": [
       "variance    0\n",
       "skewness    0\n",
       "curtosis    0\n",
       "entropy     0\n",
       "class       0\n",
       "dtype: int64"
      ]
     },
     "execution_count": 106,
     "metadata": {},
     "output_type": "execute_result"
    }
   ],
   "source": [
    "# Checking null values\n",
    "banknote.isnull().sum()"
   ]
  },
  {
   "cell_type": "code",
   "execution_count": 85,
   "metadata": {},
   "outputs": [],
   "source": [
    "x= banknote.drop(['class'], axis=1)\n",
    "y= banknote['class']"
   ]
  },
  {
   "cell_type": "code",
   "execution_count": 86,
   "metadata": {},
   "outputs": [],
   "source": [
    "from sklearn.model_selection import train_test_split\n",
    "X_train, X_test, y_train, y_test = train_test_split(x, y, test_size = 0.25, random_state = 0)"
   ]
  },
  {
   "cell_type": "code",
   "execution_count": 87,
   "metadata": {},
   "outputs": [],
   "source": [
    "# Feature scaling\n",
    "from sklearn.preprocessing import StandardScaler\n",
    "sc = StandardScaler()\n",
    "X_train = sc.fit_transform(X_train)\n",
    "X_test = sc.transform(X_test)"
   ]
  },
  {
   "cell_type": "code",
   "execution_count": 88,
   "metadata": {},
   "outputs": [
    {
     "name": "stdout",
     "output_type": "stream",
     "text": [
      "[[ 0.89967493  1.18805208 -1.18171152 -0.09274226]\n",
      " [ 0.79132601  1.52427784 -1.12635383 -1.42833711]\n",
      " [-1.4620017  -1.74354285  2.08102182  0.74693093]\n",
      " ...\n",
      " [ 0.06702331 -0.14939588 -0.84855885  0.61151564]\n",
      " [ 0.56385644 -0.36419707  0.87965453  1.07960312]\n",
      " [-0.87204745  1.53599667  0.28820496 -1.74799811]]\n"
     ]
    }
   ],
   "source": [
    "print(X_train)"
   ]
  },
  {
   "cell_type": "markdown",
   "metadata": {},
   "source": [
    "# Part 2 Making a ANN classifier"
   ]
  },
  {
   "cell_type": "code",
   "execution_count": 89,
   "metadata": {},
   "outputs": [],
   "source": [
    "from tensorflow.python.keras.models import Sequential\n",
    "from tensorflow.python.keras.layers import Dense"
   ]
  },
  {
   "cell_type": "code",
   "execution_count": 90,
   "metadata": {},
   "outputs": [],
   "source": [
    "# Initializing the ANN\n",
    "classifier = Sequential()\n",
    "\n",
    "# Adding the input layer and the first hidden layer\n",
    "classifier.add(Dense(2, kernel_initializer = 'uniform', activation='relu', input_dim = 4))\n",
    "\n",
    "# Adding the second hidden layer\n",
    "classifier.add(Dense(2, kernel_initializer= 'uniform', activation='relu'))\n",
    "\n",
    "# Adding the output layer\n",
    "classifier.add(Dense(1, kernel_initializer='uniform', activation='sigmoid'))\n",
    "\n",
    "# Compiling the ANN\n",
    "classifier.compile(optimizer='adam', loss='binary_crossentropy', metrics=['accuracy'])"
   ]
  },
  {
   "cell_type": "code",
   "execution_count": 91,
   "metadata": {},
   "outputs": [
    {
     "name": "stdout",
     "output_type": "stream",
     "text": [
      "Epoch 1/100\n",
      "103/103 [==============================] - 26s 71ms/step - loss: 0.6914 - accuracy: 0.5637 - val_loss: 0.6868 - val_accuracy: 0.7143\n",
      "Epoch 2/100\n",
      "103/103 [==============================] - 5s 51ms/step - loss: 0.6717 - accuracy: 0.8406 - val_loss: 0.6474 - val_accuracy: 0.8455\n",
      "Epoch 3/100\n",
      "103/103 [==============================] - 5s 50ms/step - loss: 0.6065 - accuracy: 0.8484 - val_loss: 0.5666 - val_accuracy: 0.8542\n",
      "Epoch 4/100\n",
      "103/103 [==============================] - 5s 46ms/step - loss: 0.5195 - accuracy: 0.8766 - val_loss: 0.4896 - val_accuracy: 0.8863\n",
      "Epoch 5/100\n",
      "103/103 [==============================] - 5s 50ms/step - loss: 0.4484 - accuracy: 0.9048 - val_loss: 0.4300 - val_accuracy: 0.9213\n",
      "Epoch 6/100\n",
      "103/103 [==============================] - 6s 54ms/step - loss: 0.3952 - accuracy: 0.9349 - val_loss: 0.3845 - val_accuracy: 0.9388\n",
      "Epoch 7/100\n",
      "103/103 [==============================] - 5s 49ms/step - loss: 0.3547 - accuracy: 0.9485 - val_loss: 0.3493 - val_accuracy: 0.9417\n",
      "Epoch 8/100\n",
      "103/103 [==============================] - 6s 59ms/step - loss: 0.3226 - accuracy: 0.9582 - val_loss: 0.3212 - val_accuracy: 0.9504\n",
      "Epoch 9/100\n",
      "103/103 [==============================] - 5s 51ms/step - loss: 0.2961 - accuracy: 0.9631 - val_loss: 0.2967 - val_accuracy: 0.9563\n",
      "Epoch 10/100\n",
      "103/103 [==============================] - 5s 47ms/step - loss: 0.2737 - accuracy: 0.9670 - val_loss: 0.2755 - val_accuracy: 0.9592\n",
      "Epoch 11/100\n",
      "103/103 [==============================] - 5s 50ms/step - loss: 0.2545 - accuracy: 0.9689 - val_loss: 0.2571 - val_accuracy: 0.9679\n",
      "Epoch 12/100\n",
      "103/103 [==============================] - 5s 49ms/step - loss: 0.2375 - accuracy: 0.9718 - val_loss: 0.2406 - val_accuracy: 0.9679\n",
      "Epoch 13/100\n",
      "103/103 [==============================] - 6s 56ms/step - loss: 0.2220 - accuracy: 0.9747 - val_loss: 0.2258 - val_accuracy: 0.9679\n",
      "Epoch 14/100\n",
      "103/103 [==============================] - 5s 50ms/step - loss: 0.2082 - accuracy: 0.9757 - val_loss: 0.2124 - val_accuracy: 0.9679\n",
      "Epoch 15/100\n",
      "103/103 [==============================] - 5s 50ms/step - loss: 0.1956 - accuracy: 0.9757 - val_loss: 0.2002 - val_accuracy: 0.9679\n",
      "Epoch 16/100\n",
      "103/103 [==============================] - 6s 55ms/step - loss: 0.1842 - accuracy: 0.9806 - val_loss: 0.1892 - val_accuracy: 0.9767\n",
      "Epoch 17/100\n",
      "103/103 [==============================] - 5s 45ms/step - loss: 0.1739 - accuracy: 0.9796 - val_loss: 0.1790 - val_accuracy: 0.9796\n",
      "Epoch 18/100\n",
      "103/103 [==============================] - 5s 46ms/step - loss: 0.1639 - accuracy: 0.9825 - val_loss: 0.1701 - val_accuracy: 0.9796\n",
      "Epoch 19/100\n",
      "103/103 [==============================] - 5s 44ms/step - loss: 0.1552 - accuracy: 0.9825 - val_loss: 0.1617 - val_accuracy: 0.9796\n",
      "Epoch 20/100\n",
      "103/103 [==============================] - 5s 46ms/step - loss: 0.1468 - accuracy: 0.9835 - val_loss: 0.1537 - val_accuracy: 0.9796\n",
      "Epoch 21/100\n",
      "103/103 [==============================] - 5s 48ms/step - loss: 0.1394 - accuracy: 0.9835 - val_loss: 0.1461 - val_accuracy: 0.9796\n",
      "Epoch 22/100\n",
      "103/103 [==============================] - 5s 46ms/step - loss: 0.1323 - accuracy: 0.9835 - val_loss: 0.1393 - val_accuracy: 0.9796\n",
      "Epoch 23/100\n",
      "103/103 [==============================] - 4s 43ms/step - loss: 0.1258 - accuracy: 0.9835 - val_loss: 0.1329 - val_accuracy: 0.9796\n",
      "Epoch 24/100\n",
      "103/103 [==============================] - 5s 49ms/step - loss: 0.1197 - accuracy: 0.9835 - val_loss: 0.1275 - val_accuracy: 0.9796\n",
      "Epoch 25/100\n",
      "103/103 [==============================] - 5s 48ms/step - loss: 0.1142 - accuracy: 0.9825 - val_loss: 0.1215 - val_accuracy: 0.9796\n",
      "Epoch 26/100\n",
      "103/103 [==============================] - 6s 55ms/step - loss: 0.1087 - accuracy: 0.9825 - val_loss: 0.1170 - val_accuracy: 0.9796\n",
      "Epoch 27/100\n",
      "103/103 [==============================] - 5s 47ms/step - loss: 0.1039 - accuracy: 0.9835 - val_loss: 0.1116 - val_accuracy: 0.9796\n",
      "Epoch 28/100\n",
      "103/103 [==============================] - 5s 45ms/step - loss: 0.0994 - accuracy: 0.9825 - val_loss: 0.1072 - val_accuracy: 0.9796\n",
      "Epoch 29/100\n",
      "103/103 [==============================] - 4s 43ms/step - loss: 0.0950 - accuracy: 0.9825 - val_loss: 0.1033 - val_accuracy: 0.9796\n",
      "Epoch 30/100\n",
      "103/103 [==============================] - 5s 47ms/step - loss: 0.0910 - accuracy: 0.9825 - val_loss: 0.0992 - val_accuracy: 0.9796\n",
      "Epoch 31/100\n",
      "103/103 [==============================] - 5s 47ms/step - loss: 0.0876 - accuracy: 0.9825 - val_loss: 0.0959 - val_accuracy: 0.9796\n",
      "Epoch 32/100\n",
      "103/103 [==============================] - 5s 45ms/step - loss: 0.0839 - accuracy: 0.9825 - val_loss: 0.0919 - val_accuracy: 0.9796\n",
      "Epoch 33/100\n",
      "103/103 [==============================] - 5s 46ms/step - loss: 0.0807 - accuracy: 0.9825 - val_loss: 0.0897 - val_accuracy: 0.9796\n",
      "Epoch 34/100\n",
      "103/103 [==============================] - 5s 46ms/step - loss: 0.0776 - accuracy: 0.9874 - val_loss: 0.0857 - val_accuracy: 0.9796\n",
      "Epoch 35/100\n",
      "103/103 [==============================] - 5s 46ms/step - loss: 0.0747 - accuracy: 0.9874 - val_loss: 0.0833 - val_accuracy: 0.9796\n",
      "Epoch 36/100\n",
      "103/103 [==============================] - 5s 45ms/step - loss: 0.0719 - accuracy: 0.9874 - val_loss: 0.0804 - val_accuracy: 0.9796\n",
      "Epoch 37/100\n",
      "103/103 [==============================] - 5s 48ms/step - loss: 0.0698 - accuracy: 0.9883 - val_loss: 0.0780 - val_accuracy: 0.9796\n",
      "Epoch 38/100\n",
      "103/103 [==============================] - 5s 49ms/step - loss: 0.0671 - accuracy: 0.9883 - val_loss: 0.0755 - val_accuracy: 0.9825\n",
      "Epoch 39/100\n",
      "103/103 [==============================] - 6s 56ms/step - loss: 0.0649 - accuracy: 0.9893 - val_loss: 0.0733 - val_accuracy: 0.9825\n",
      "Epoch 40/100\n",
      "103/103 [==============================] - 5s 49ms/step - loss: 0.0627 - accuracy: 0.9893 - val_loss: 0.0706 - val_accuracy: 0.9854\n",
      "Epoch 41/100\n",
      "103/103 [==============================] - 5s 50ms/step - loss: 0.0608 - accuracy: 0.9903 - val_loss: 0.0695 - val_accuracy: 0.9854\n",
      "Epoch 42/100\n",
      "103/103 [==============================] - 5s 51ms/step - loss: 0.0587 - accuracy: 0.9932 - val_loss: 0.0678 - val_accuracy: 0.9854\n",
      "Epoch 43/100\n",
      "103/103 [==============================] - 5s 48ms/step - loss: 0.0568 - accuracy: 0.9932 - val_loss: 0.0660 - val_accuracy: 0.9854\n",
      "Epoch 44/100\n",
      "103/103 [==============================] - 6s 60ms/step - loss: 0.0552 - accuracy: 0.9893 - val_loss: 0.0639 - val_accuracy: 0.9854\n",
      "Epoch 45/100\n",
      "103/103 [==============================] - 5s 53ms/step - loss: 0.0537 - accuracy: 0.9932 - val_loss: 0.0628 - val_accuracy: 0.9854\n",
      "Epoch 46/100\n",
      "103/103 [==============================] - 5s 50ms/step - loss: 0.0522 - accuracy: 0.9932 - val_loss: 0.0602 - val_accuracy: 0.9854\n",
      "Epoch 47/100\n",
      "103/103 [==============================] - 6s 55ms/step - loss: 0.0505 - accuracy: 0.9932 - val_loss: 0.0590 - val_accuracy: 0.9854\n",
      "Epoch 48/100\n",
      "103/103 [==============================] - 9s 84ms/step - loss: 0.0491 - accuracy: 0.9932 - val_loss: 0.0581 - val_accuracy: 0.9854\n",
      "Epoch 49/100\n",
      "103/103 [==============================] - 6s 61ms/step - loss: 0.0481 - accuracy: 0.9932 - val_loss: 0.0564 - val_accuracy: 0.9854\n",
      "Epoch 50/100\n",
      "103/103 [==============================] - 5s 52ms/step - loss: 0.0468 - accuracy: 0.9932 - val_loss: 0.0554 - val_accuracy: 0.9854\n",
      "Epoch 51/100\n",
      "103/103 [==============================] - 5s 45ms/step - loss: 0.0456 - accuracy: 0.9932 - val_loss: 0.0537 - val_accuracy: 0.9854\n",
      "Epoch 52/100\n",
      "103/103 [==============================] - 5s 52ms/step - loss: 0.0447 - accuracy: 0.9922 - val_loss: 0.0528 - val_accuracy: 0.9854\n",
      "Epoch 53/100\n",
      "103/103 [==============================] - 5s 51ms/step - loss: 0.0433 - accuracy: 0.9932 - val_loss: 0.0524 - val_accuracy: 0.9854\n",
      "Epoch 54/100\n",
      "103/103 [==============================] - 5s 48ms/step - loss: 0.0423 - accuracy: 0.9932 - val_loss: 0.0518 - val_accuracy: 0.9854\n",
      "Epoch 55/100\n",
      "103/103 [==============================] - 6s 57ms/step - loss: 0.0415 - accuracy: 0.9922 - val_loss: 0.0501 - val_accuracy: 0.9854\n",
      "Epoch 56/100\n",
      "103/103 [==============================] - 5s 47ms/step - loss: 0.0405 - accuracy: 0.9932 - val_loss: 0.0486 - val_accuracy: 0.9854\n",
      "Epoch 57/100\n",
      "103/103 [==============================] - 5s 46ms/step - loss: 0.0395 - accuracy: 0.9932 - val_loss: 0.0485 - val_accuracy: 0.9854\n",
      "Epoch 58/100\n",
      "103/103 [==============================] - 5s 47ms/step - loss: 0.0389 - accuracy: 0.9913 - val_loss: 0.0476 - val_accuracy: 0.9854\n",
      "Epoch 59/100\n",
      "103/103 [==============================] - 5s 46ms/step - loss: 0.0379 - accuracy: 0.9922 - val_loss: 0.0476 - val_accuracy: 0.9854\n",
      "Epoch 60/100\n",
      "103/103 [==============================] - 5s 45ms/step - loss: 0.0373 - accuracy: 0.9932 - val_loss: 0.0471 - val_accuracy: 0.9854\n",
      "Epoch 61/100\n",
      "103/103 [==============================] - 5s 44ms/step - loss: 0.0365 - accuracy: 0.9932 - val_loss: 0.0459 - val_accuracy: 0.9854\n",
      "Epoch 62/100\n",
      "103/103 [==============================] - 5s 47ms/step - loss: 0.0358 - accuracy: 0.9922 - val_loss: 0.0447 - val_accuracy: 0.9854\n",
      "Epoch 63/100\n",
      "103/103 [==============================] - 5s 51ms/step - loss: 0.0350 - accuracy: 0.9932 - val_loss: 0.0440 - val_accuracy: 0.9854\n",
      "Epoch 64/100\n",
      "103/103 [==============================] - 5s 47ms/step - loss: 0.0345 - accuracy: 0.9922 - val_loss: 0.0430 - val_accuracy: 0.9854\n",
      "Epoch 65/100\n",
      "103/103 [==============================] - 5s 48ms/step - loss: 0.0339 - accuracy: 0.9922 - val_loss: 0.0430 - val_accuracy: 0.9854\n",
      "Epoch 66/100\n",
      "103/103 [==============================] - 5s 47ms/step - loss: 0.0334 - accuracy: 0.9932 - val_loss: 0.0434 - val_accuracy: 0.9854\n",
      "Epoch 67/100\n",
      "103/103 [==============================] - 5s 46ms/step - loss: 0.0328 - accuracy: 0.9932 - val_loss: 0.0430 - val_accuracy: 0.9854\n",
      "Epoch 68/100\n",
      "103/103 [==============================] - 4s 41ms/step - loss: 0.0322 - accuracy: 0.9932 - val_loss: 0.0413 - val_accuracy: 0.9854\n",
      "Epoch 69/100\n",
      "103/103 [==============================] - 4s 43ms/step - loss: 0.0320 - accuracy: 0.9942 - val_loss: 0.0411 - val_accuracy: 0.9854\n",
      "Epoch 70/100\n",
      "103/103 [==============================] - 4s 43ms/step - loss: 0.0312 - accuracy: 0.9932 - val_loss: 0.0404 - val_accuracy: 0.9854\n",
      "Epoch 71/100\n",
      "103/103 [==============================] - 5s 46ms/step - loss: 0.0311 - accuracy: 0.9922 - val_loss: 0.0408 - val_accuracy: 0.9854\n",
      "Epoch 72/100\n",
      "103/103 [==============================] - 5s 48ms/step - loss: 0.0306 - accuracy: 0.9932 - val_loss: 0.0396 - val_accuracy: 0.9854\n",
      "Epoch 73/100\n",
      "103/103 [==============================] - 5s 49ms/step - loss: 0.0301 - accuracy: 0.9932 - val_loss: 0.0391 - val_accuracy: 0.9854\n",
      "Epoch 74/100\n",
      "103/103 [==============================] - 6s 60ms/step - loss: 0.0297 - accuracy: 0.9932 - val_loss: 0.0386 - val_accuracy: 0.9854\n",
      "Epoch 75/100\n",
      "103/103 [==============================] - 6s 55ms/step - loss: 0.0295 - accuracy: 0.9922 - val_loss: 0.0382 - val_accuracy: 0.9854\n",
      "Epoch 76/100\n",
      "103/103 [==============================] - 6s 60ms/step - loss: 0.0290 - accuracy: 0.9922 - val_loss: 0.0385 - val_accuracy: 0.9854\n",
      "Epoch 77/100\n",
      "103/103 [==============================] - 5s 48ms/step - loss: 0.0287 - accuracy: 0.9932 - val_loss: 0.0381 - val_accuracy: 0.9854\n",
      "Epoch 78/100\n",
      "103/103 [==============================] - 5s 49ms/step - loss: 0.0284 - accuracy: 0.9913 - val_loss: 0.0381 - val_accuracy: 0.9854\n",
      "Epoch 79/100\n",
      "103/103 [==============================] - 7s 65ms/step - loss: 0.0281 - accuracy: 0.9922 - val_loss: 0.0377 - val_accuracy: 0.9854\n",
      "Epoch 80/100\n",
      "103/103 [==============================] - 6s 55ms/step - loss: 0.0277 - accuracy: 0.9922 - val_loss: 0.0378 - val_accuracy: 0.9854\n",
      "Epoch 81/100\n",
      "103/103 [==============================] - 6s 57ms/step - loss: 0.0275 - accuracy: 0.9913 - val_loss: 0.0378 - val_accuracy: 0.9854\n",
      "Epoch 82/100\n",
      "103/103 [==============================] - 6s 60ms/step - loss: 0.0271 - accuracy: 0.9932 - val_loss: 0.0372 - val_accuracy: 0.9854\n",
      "Epoch 83/100\n",
      "103/103 [==============================] - 5s 48ms/step - loss: 0.0272 - accuracy: 0.9922 - val_loss: 0.0385 - val_accuracy: 0.9854\n",
      "Epoch 84/100\n",
      "103/103 [==============================] - 5s 52ms/step - loss: 0.0269 - accuracy: 0.9932 - val_loss: 0.0383 - val_accuracy: 0.9854\n",
      "Epoch 85/100\n",
      "103/103 [==============================] - 7s 65ms/step - loss: 0.0262 - accuracy: 0.9922 - val_loss: 0.0365 - val_accuracy: 0.9854\n",
      "Epoch 86/100\n",
      "103/103 [==============================] - 6s 55ms/step - loss: 0.0262 - accuracy: 0.9922 - val_loss: 0.0355 - val_accuracy: 0.9854\n",
      "Epoch 87/100\n",
      "103/103 [==============================] - 8s 79ms/step - loss: 0.0260 - accuracy: 0.9932 - val_loss: 0.0344 - val_accuracy: 0.9854\n",
      "Epoch 88/100\n",
      "103/103 [==============================] - 6s 60ms/step - loss: 0.0258 - accuracy: 0.9932 - val_loss: 0.0364 - val_accuracy: 0.9854\n",
      "Epoch 89/100\n",
      "103/103 [==============================] - 5s 52ms/step - loss: 0.0258 - accuracy: 0.9932 - val_loss: 0.0352 - val_accuracy: 0.9854\n",
      "Epoch 90/100\n",
      "103/103 [==============================] - 5s 52ms/step - loss: 0.0253 - accuracy: 0.9942 - val_loss: 0.0348 - val_accuracy: 0.9854\n",
      "Epoch 91/100\n",
      "103/103 [==============================] - 6s 61ms/step - loss: 0.0256 - accuracy: 0.9913 - val_loss: 0.0343 - val_accuracy: 0.9854\n",
      "Epoch 92/100\n",
      "103/103 [==============================] - 7s 73ms/step - loss: 0.0252 - accuracy: 0.9913 - val_loss: 0.0341 - val_accuracy: 0.9854\n",
      "Epoch 93/100\n",
      "103/103 [==============================] - 7s 72ms/step - loss: 0.0248 - accuracy: 0.9922 - val_loss: 0.0351 - val_accuracy: 0.9854\n",
      "Epoch 94/100\n",
      "103/103 [==============================] - 5s 50ms/step - loss: 0.0249 - accuracy: 0.9932 - val_loss: 0.0337 - val_accuracy: 0.9854\n",
      "Epoch 95/100\n",
      "103/103 [==============================] - 6s 57ms/step - loss: 0.0247 - accuracy: 0.9932 - val_loss: 0.0338 - val_accuracy: 0.9854\n",
      "Epoch 96/100\n",
      "103/103 [==============================] - 5s 48ms/step - loss: 0.0243 - accuracy: 0.9932 - val_loss: 0.0353 - val_accuracy: 0.9854\n",
      "Epoch 97/100\n",
      "103/103 [==============================] - 4s 42ms/step - loss: 0.0241 - accuracy: 0.9922 - val_loss: 0.0340 - val_accuracy: 0.9854\n",
      "Epoch 98/100\n",
      "103/103 [==============================] - 5s 48ms/step - loss: 0.0240 - accuracy: 0.9913 - val_loss: 0.0340 - val_accuracy: 0.9854\n",
      "Epoch 99/100\n",
      "103/103 [==============================] - 6s 54ms/step - loss: 0.0239 - accuracy: 0.9942 - val_loss: 0.0326 - val_accuracy: 0.9854\n",
      "Epoch 100/100\n",
      "103/103 [==============================] - 5s 49ms/step - loss: 0.0240 - accuracy: 0.9932 - val_loss: 0.0347 - val_accuracy: 0.9854\n"
     ]
    }
   ],
   "source": [
    "# Fitting the ANN to fit training set\n",
    "history = classifier.fit(X_train, y_train, batch_size = 10, epochs = 100,validation_data=(X_test,y_test))"
   ]
  },
  {
   "cell_type": "code",
   "execution_count": 98,
   "metadata": {},
   "outputs": [
    {
     "name": "stdout",
     "output_type": "stream",
     "text": [
      "dict_keys(['loss', 'accuracy', 'val_loss', 'val_accuracy'])\n"
     ]
    }
   ],
   "source": [
    "print(history.history.keys())"
   ]
  },
  {
   "cell_type": "markdown",
   "metadata": {},
   "source": [
    "# Part 3 : Making the predictions and evaluting the model"
   ]
  },
  {
   "cell_type": "code",
   "execution_count": 92,
   "metadata": {},
   "outputs": [],
   "source": [
    "# Predicting test set results\n",
    "y_pred = classifier.predict(X_test)"
   ]
  },
  {
   "cell_type": "code",
   "execution_count": 93,
   "metadata": {},
   "outputs": [
    {
     "data": {
      "text/plain": [
       "array([[0.99993765],\n",
       "       [0.00931671],\n",
       "       [0.9999981 ],\n",
       "       [0.00931671],\n",
       "       [0.00931671],\n",
       "       [0.00931671],\n",
       "       [0.00931671],\n",
       "       [0.00931671],\n",
       "       [0.99975866],\n",
       "       [0.99975896],\n",
       "       [0.00931671],\n",
       "       [0.00931671],\n",
       "       [0.9999962 ],\n",
       "       [0.00931671],\n",
       "       [0.00931671],\n",
       "       [0.00931671],\n",
       "       [1.        ],\n",
       "       [0.99994445],\n",
       "       [0.00931671],\n",
       "       [0.00931671],\n",
       "       [0.9980118 ],\n",
       "       [0.00931671],\n",
       "       [0.00931671],\n",
       "       [0.99973375],\n",
       "       [0.05272722],\n",
       "       [0.99976134],\n",
       "       [0.00931671],\n",
       "       [0.9999935 ],\n",
       "       [0.00931671],\n",
       "       [0.00931671],\n",
       "       [0.9994557 ],\n",
       "       [0.0129602 ],\n",
       "       [0.9881207 ],\n",
       "       [0.99999964],\n",
       "       [0.9999994 ],\n",
       "       [0.00931671],\n",
       "       [0.00931671],\n",
       "       [0.9999715 ],\n",
       "       [0.00931671],\n",
       "       [0.9999956 ],\n",
       "       [0.850394  ],\n",
       "       [0.9999997 ],\n",
       "       [0.00931671],\n",
       "       [0.00931671],\n",
       "       [0.99996495],\n",
       "       [0.9968896 ],\n",
       "       [0.00931671],\n",
       "       [0.00931671],\n",
       "       [0.9999996 ],\n",
       "       [0.00931671],\n",
       "       [0.00931671],\n",
       "       [1.        ],\n",
       "       [0.00931671],\n",
       "       [0.9999982 ],\n",
       "       [0.99920213],\n",
       "       [0.00931671],\n",
       "       [0.99954236],\n",
       "       [0.9999822 ],\n",
       "       [0.00931671],\n",
       "       [1.        ],\n",
       "       [0.99995637],\n",
       "       [0.00931671],\n",
       "       [0.00931671],\n",
       "       [0.00931671],\n",
       "       [0.00931671],\n",
       "       [0.9999495 ],\n",
       "       [0.9995957 ],\n",
       "       [0.99998045],\n",
       "       [0.99372137],\n",
       "       [0.00931671],\n",
       "       [0.9322314 ],\n",
       "       [0.00931671],\n",
       "       [1.        ],\n",
       "       [0.00931671],\n",
       "       [0.24318573],\n",
       "       [1.        ],\n",
       "       [0.00931671],\n",
       "       [0.00931671],\n",
       "       [0.00931671],\n",
       "       [0.00931671],\n",
       "       [0.99991107],\n",
       "       [0.9999989 ],\n",
       "       [0.00931671],\n",
       "       [0.00931671],\n",
       "       [0.99956286],\n",
       "       [0.9999831 ],\n",
       "       [0.00931671],\n",
       "       [0.00931671],\n",
       "       [0.00931671],\n",
       "       [0.00931671],\n",
       "       [0.00931671],\n",
       "       [0.9997864 ],\n",
       "       [0.9999575 ],\n",
       "       [0.99985856],\n",
       "       [0.999997  ],\n",
       "       [0.00931671],\n",
       "       [0.00931671],\n",
       "       [0.00931671],\n",
       "       [0.99998283],\n",
       "       [1.        ],\n",
       "       [0.00931671],\n",
       "       [0.9982989 ],\n",
       "       [0.00931671],\n",
       "       [0.72714573],\n",
       "       [0.00931671],\n",
       "       [0.99886465],\n",
       "       [0.00931671],\n",
       "       [0.99934244],\n",
       "       [1.        ],\n",
       "       [0.9999958 ],\n",
       "       [0.00931671],\n",
       "       [1.        ],\n",
       "       [0.00931671],\n",
       "       [0.00931671],\n",
       "       [0.9999969 ],\n",
       "       [0.00931671],\n",
       "       [0.00931671],\n",
       "       [0.00931671],\n",
       "       [0.9999979 ],\n",
       "       [1.        ],\n",
       "       [0.00931671],\n",
       "       [0.00931671],\n",
       "       [0.95879376],\n",
       "       [1.        ],\n",
       "       [0.9307214 ],\n",
       "       [0.9999996 ],\n",
       "       [0.9979931 ],\n",
       "       [0.00931671],\n",
       "       [0.9740787 ],\n",
       "       [0.00931671],\n",
       "       [0.00931671],\n",
       "       [0.00931671],\n",
       "       [0.00931671],\n",
       "       [0.24318573],\n",
       "       [0.00931671],\n",
       "       [0.99998474],\n",
       "       [0.00931671],\n",
       "       [0.00931671],\n",
       "       [0.00931671],\n",
       "       [0.00931671],\n",
       "       [0.9991676 ],\n",
       "       [0.00931671],\n",
       "       [0.99999607],\n",
       "       [0.99998766],\n",
       "       [0.00931671],\n",
       "       [0.00931671],\n",
       "       [0.8520342 ],\n",
       "       [0.00931671],\n",
       "       [0.00931671],\n",
       "       [0.9999771 ],\n",
       "       [0.00931671],\n",
       "       [0.00931671],\n",
       "       [0.00931671],\n",
       "       [0.00931671],\n",
       "       [0.99999905],\n",
       "       [0.00931671],\n",
       "       [0.9906957 ],\n",
       "       [0.00931671],\n",
       "       [0.9999896 ],\n",
       "       [0.00931671],\n",
       "       [0.00931671],\n",
       "       [0.99999297],\n",
       "       [0.00931671],\n",
       "       [0.9999902 ],\n",
       "       [0.00931671],\n",
       "       [0.99418676],\n",
       "       [0.99999493],\n",
       "       [0.00931671],\n",
       "       [0.9649686 ],\n",
       "       [0.99834734],\n",
       "       [0.00931671],\n",
       "       [0.9999831 ],\n",
       "       [0.99996936],\n",
       "       [0.9970739 ],\n",
       "       [0.99999976],\n",
       "       [0.00931671],\n",
       "       [0.00931671],\n",
       "       [0.00931671],\n",
       "       [1.        ],\n",
       "       [0.99923503],\n",
       "       [0.00931671],\n",
       "       [0.99999815],\n",
       "       [0.00931671],\n",
       "       [0.00931671],\n",
       "       [0.00931671],\n",
       "       [1.        ],\n",
       "       [0.00931671],\n",
       "       [0.99998987],\n",
       "       [0.99986243],\n",
       "       [0.00931671],\n",
       "       [0.24317679],\n",
       "       [0.00931671],\n",
       "       [0.9999894 ],\n",
       "       [0.00931671],\n",
       "       [0.99999607],\n",
       "       [0.00931671],\n",
       "       [0.00931671],\n",
       "       [0.00931671],\n",
       "       [0.96960735],\n",
       "       [0.994882  ],\n",
       "       [0.00931671],\n",
       "       [0.00931671],\n",
       "       [0.00931671],\n",
       "       [0.00931671],\n",
       "       [0.00931671],\n",
       "       [0.00931671],\n",
       "       [0.00931671],\n",
       "       [0.00931671],\n",
       "       [0.98987365],\n",
       "       [0.00931671],\n",
       "       [0.00931671],\n",
       "       [0.99976754],\n",
       "       [0.00931671],\n",
       "       [0.00931671],\n",
       "       [0.00931671],\n",
       "       [0.9996598 ],\n",
       "       [0.9792452 ],\n",
       "       [0.00931671],\n",
       "       [0.00931671],\n",
       "       [0.00931671],\n",
       "       [0.00931671],\n",
       "       [0.00931671],\n",
       "       [0.00931671],\n",
       "       [0.00931671],\n",
       "       [0.00931671],\n",
       "       [0.9999982 ],\n",
       "       [0.9906633 ],\n",
       "       [0.00931671],\n",
       "       [0.00931671],\n",
       "       [0.00931671],\n",
       "       [0.00931671],\n",
       "       [0.9997213 ],\n",
       "       [0.9999863 ],\n",
       "       [0.00931671],\n",
       "       [0.9999908 ],\n",
       "       [0.9999726 ],\n",
       "       [0.00931671],\n",
       "       [0.2708017 ],\n",
       "       [0.92199624],\n",
       "       [0.9999989 ],\n",
       "       [0.00931671],\n",
       "       [1.        ],\n",
       "       [0.9999322 ],\n",
       "       [0.00931671],\n",
       "       [0.99994075],\n",
       "       [0.00931671],\n",
       "       [0.00931671],\n",
       "       [0.00931671],\n",
       "       [0.00931671],\n",
       "       [0.00931671],\n",
       "       [0.0280031 ],\n",
       "       [0.99666274],\n",
       "       [0.00931671],\n",
       "       [1.        ],\n",
       "       [0.99999255],\n",
       "       [0.00931671],\n",
       "       [0.00931671],\n",
       "       [0.9994588 ],\n",
       "       [0.9989015 ],\n",
       "       [0.86170286],\n",
       "       [0.00931671],\n",
       "       [0.00931671],\n",
       "       [0.00931671],\n",
       "       [1.        ],\n",
       "       [0.00931671],\n",
       "       [0.00931671],\n",
       "       [0.9996612 ],\n",
       "       [0.996919  ],\n",
       "       [0.00931671],\n",
       "       [0.99999654],\n",
       "       [0.99992096],\n",
       "       [0.00931671],\n",
       "       [1.        ],\n",
       "       [0.99992436],\n",
       "       [0.99996716],\n",
       "       [0.99961376],\n",
       "       [0.99994534],\n",
       "       [0.99997765],\n",
       "       [0.01226071],\n",
       "       [0.00931671],\n",
       "       [0.9999982 ],\n",
       "       [0.99866456],\n",
       "       [1.        ],\n",
       "       [0.00931671],\n",
       "       [0.9959921 ],\n",
       "       [0.00931671],\n",
       "       [0.9285903 ],\n",
       "       [0.00931671],\n",
       "       [0.00931671],\n",
       "       [0.9999977 ],\n",
       "       [0.99999344],\n",
       "       [0.9192452 ],\n",
       "       [0.00931671],\n",
       "       [0.9994805 ],\n",
       "       [0.7271843 ],\n",
       "       [0.00931671],\n",
       "       [0.00931671],\n",
       "       [0.00931671],\n",
       "       [0.99998957],\n",
       "       [0.00931671],\n",
       "       [0.00931671],\n",
       "       [1.        ],\n",
       "       [0.00931671],\n",
       "       [0.9991596 ],\n",
       "       [0.9995264 ],\n",
       "       [0.99976736],\n",
       "       [0.7271843 ],\n",
       "       [0.00931671],\n",
       "       [0.00931671],\n",
       "       [0.00931671],\n",
       "       [0.00931671],\n",
       "       [0.00931671],\n",
       "       [0.9997773 ],\n",
       "       [0.00931671],\n",
       "       [0.00931671],\n",
       "       [0.98408663],\n",
       "       [0.99998087],\n",
       "       [0.99999654],\n",
       "       [0.00931671],\n",
       "       [0.00931671],\n",
       "       [0.850394  ],\n",
       "       [0.24349156],\n",
       "       [0.999832  ],\n",
       "       [0.99887437],\n",
       "       [0.00931671],\n",
       "       [1.        ],\n",
       "       [0.00931671],\n",
       "       [0.9998783 ],\n",
       "       [0.9988277 ],\n",
       "       [0.00931671],\n",
       "       [0.00931671],\n",
       "       [0.00931671],\n",
       "       [1.        ],\n",
       "       [0.9999761 ],\n",
       "       [0.00931671],\n",
       "       [0.99998885],\n",
       "       [0.00931671],\n",
       "       [0.00931671],\n",
       "       [1.        ],\n",
       "       [0.00931671],\n",
       "       [0.00931671],\n",
       "       [0.00931671],\n",
       "       [0.00931671]], dtype=float32)"
      ]
     },
     "execution_count": 93,
     "metadata": {},
     "output_type": "execute_result"
    }
   ],
   "source": [
    "y_pred"
   ]
  },
  {
   "cell_type": "code",
   "execution_count": 94,
   "metadata": {},
   "outputs": [],
   "source": [
    "# Making the confusion Matrix\n",
    "from sklearn.metrics import confusion_matrix\n",
    "cm = confusion_matrix(y_test, y_pred.round())"
   ]
  },
  {
   "cell_type": "code",
   "execution_count": 95,
   "metadata": {},
   "outputs": [
    {
     "data": {
      "text/plain": [
       "array([[190,   5],\n",
       "       [  0, 148]], dtype=int64)"
      ]
     },
     "execution_count": 95,
     "metadata": {},
     "output_type": "execute_result"
    }
   ],
   "source": [
    "cm"
   ]
  },
  {
   "cell_type": "code",
   "execution_count": 96,
   "metadata": {},
   "outputs": [
    {
     "name": "stdout",
     "output_type": "stream",
     "text": [
      "(343,)\n"
     ]
    }
   ],
   "source": [
    "print(y_test.shape)"
   ]
  },
  {
   "cell_type": "code",
   "execution_count": 122,
   "metadata": {},
   "outputs": [],
   "source": [
    "from sklearn.metrics import classification_report\n",
    "from sklearn.metrics import accuracy_score\n",
    "from sklearn.metrics import precision_score\n",
    "from sklearn.metrics import recall_score\n",
    "from sklearn.metrics import f1_score"
   ]
  },
  {
   "cell_type": "code",
   "execution_count": 111,
   "metadata": {},
   "outputs": [
    {
     "name": "stdout",
     "output_type": "stream",
     "text": [
      "              precision    recall  f1-score   support\n",
      "\n",
      "           0       1.00      0.97      0.99       195\n",
      "           1       0.97      1.00      0.98       148\n",
      "\n",
      "    accuracy                           0.99       343\n",
      "   macro avg       0.98      0.99      0.99       343\n",
      "weighted avg       0.99      0.99      0.99       343\n",
      "\n"
     ]
    }
   ],
   "source": [
    "print(classification_report(y_test, y_pred.round()))"
   ]
  },
  {
   "cell_type": "code",
   "execution_count": 109,
   "metadata": {
    "scrolled": true
   },
   "outputs": [
    {
     "name": "stdout",
     "output_type": "stream",
     "text": [
      "Accuracy score : 0.9854227405247813\n"
     ]
    }
   ],
   "source": [
    "# accuracy: (tp + tn) / (p + n)\n",
    "from sklearn.metrics import accuracy_score\n",
    "print('Accuracy score :', accuracy_score(y_test, y_pred.round()))"
   ]
  },
  {
   "cell_type": "code",
   "execution_count": 123,
   "metadata": {},
   "outputs": [
    {
     "name": "stdout",
     "output_type": "stream",
     "text": [
      "Precision: 0.967320\n"
     ]
    }
   ],
   "source": [
    "# precision tp / (tp + fp)\n",
    "precision = precision_score(y_test, y_pred.round())\n",
    "print('Precision: %f' % precision)"
   ]
  },
  {
   "cell_type": "code",
   "execution_count": 125,
   "metadata": {},
   "outputs": [
    {
     "name": "stdout",
     "output_type": "stream",
     "text": [
      "Recall: 1.000000\n"
     ]
    }
   ],
   "source": [
    "# recall: tp / (tp + fn)\n",
    "recall = recall_score(y_test, y_pred.round())\n",
    "print('Recall: %f' % recall)"
   ]
  },
  {
   "cell_type": "code",
   "execution_count": 126,
   "metadata": {},
   "outputs": [
    {
     "name": "stdout",
     "output_type": "stream",
     "text": [
      "F1 score: 0.983389\n"
     ]
    }
   ],
   "source": [
    "# f1: 2 tp / (2 tp + fp + fn)\n",
    "f1 = f1_score(y_test, y_pred.round())\n",
    "print('F1 score: %f' % f1)"
   ]
  },
  {
   "cell_type": "markdown",
   "metadata": {},
   "source": [
    "# Part 4 Visualizing the results"
   ]
  },
  {
   "cell_type": "markdown",
   "metadata": {},
   "source": [
    "From the plot of accuracy we can see that the model could probably be trained a little more as the trend for accuracy on both datasets is still rising for the last few epochs. We can also see that the model has not yet over-learned the training dataset, showing comparable skill on both datasets."
   ]
  },
  {
   "cell_type": "code",
   "execution_count": 118,
   "metadata": {},
   "outputs": [
    {
     "data": {
      "image/png": "[encoded data removed]",
      "text/plain": [
       "<Figure size 1152x504 with 1 Axes>"
      ]
     },
     "metadata": {
      "needs_background": "light"
     },
     "output_type": "display_data"
    }
   ],
   "source": [
    "# summarize history for accuracy\n",
    "fig = plt.subplots(figsize=(16,7))\n",
    "plt.plot(history.history['accuracy'])\n",
    "plt.plot(history.history['val_accuracy'])\n",
    "plt.title('model accuracy')\n",
    "plt.ylabel('accuracy')\n",
    "plt.xlabel('epoch')\n",
    "plt.legend(['train', 'test'], loc='lower right')\n",
    "plt.show()"
   ]
  },
  {
   "cell_type": "markdown",
   "metadata": {},
   "source": [
    "From the plot of loss, we can see that the model has comparable performance on both train and validation datasets (labeled test). If these parallel plots start to depart consistently, it might be a sign to stop training at an earlier epoch"
   ]
  },
  {
   "cell_type": "code",
   "execution_count": 117,
   "metadata": {},
   "outputs": [
    {
     "data": {
      "image/png": "[encoded data removed]",
      "text/plain": [
       "<Figure size 1152x504 with 1 Axes>"
      ]
     },
     "metadata": {
      "needs_background": "light"
     },
     "output_type": "display_data"
    }
   ],
   "source": [
    "# summarize history for loss\n",
    "fig = plt.subplots(figsize=(16,7))\n",
    "plt.plot(history.history['loss'])\n",
    "plt.plot(history.history['val_loss'])\n",
    "plt.title('model loss')\n",
    "plt.ylabel('loss')\n",
    "plt.xlabel('epoch')\n",
    "plt.legend(['train', 'test'], loc='upper right')\n",
    "plt.show()"
   ]
  }
 ],
 "metadata": {
  "kernelspec": {
   "display_name": "Python 3",
   "language": "python",
   "name": "python3"
  },
  "language_info": {
   "codemirror_mode": {
    "name": "ipython",
    "version": 3
   },
   "file_extension": ".py",
   "mimetype": "text/x-python",
   "name": "python",
   "nbconvert_exporter": "python",
   "pygments_lexer": "ipython3",
   "version": "3.8.5"
  }
 },
 "nbformat": 4,
 "nbformat_minor": 4
}
